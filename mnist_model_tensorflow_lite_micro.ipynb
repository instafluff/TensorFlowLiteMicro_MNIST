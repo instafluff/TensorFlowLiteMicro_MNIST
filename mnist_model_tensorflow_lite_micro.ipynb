{
  "nbformat": 4,
  "nbformat_minor": 0,
  "metadata": {
    "colab": {
      "name": "MNIST Digits on TensorFlow Lite for Microcontrollers.ipynb",
      "provenance": [],
      "collapsed_sections": [],
      "authorship_tag": "ABX9TyPVuxE2+XT+kMx435aYlK56",
      "include_colab_link": true
    },
    "kernelspec": {
      "name": "python3",
      "display_name": "Python 3"
    }
  },
  "cells": [
    {
      "cell_type": "markdown",
      "metadata": {
        "id": "view-in-github",
        "colab_type": "text"
      },
      "source": [
        "<a href=\"https://colab.research.google.com/github/instafluff/TensorFlowLiteMicro_MNIST/blob/master/mnist_model_tensorflow_lite_micro.ipynb\" target=\"_parent\"><img src=\"https://colab.research.google.com/assets/colab-badge.svg\" alt=\"Open In Colab\"/></a>"
      ]
    },
    {
      "cell_type": "markdown",
      "metadata": {
        "id": "Zu1j2tYxtBUY",
        "colab_type": "text"
      },
      "source": [
        "# MNIST in TensorFlow Lite Micro"
      ]
    },
    {
      "cell_type": "code",
      "metadata": {
        "id": "v1RWmA6D2bRb",
        "colab_type": "code",
        "colab": {}
      },
      "source": [
        "!pip install tensorflow==2.0.0"
      ],
      "execution_count": 0,
      "outputs": []
    },
    {
      "cell_type": "markdown",
      "metadata": {
        "id": "278DhurWtayz",
        "colab_type": "text"
      },
      "source": [
        "# Python Modules"
      ]
    },
    {
      "cell_type": "code",
      "metadata": {
        "id": "lyqFzpj424A0",
        "colab_type": "code",
        "colab": {}
      },
      "source": [
        "import tensorflow as tf\n",
        "from tensorflow.python.keras.models import Sequential\n",
        "from tensorflow.python.keras.layers import Dense, Flatten\n",
        "\n",
        "# modules for plotting in this notebook\n",
        "import numpy as np\n",
        "import matplotlib.pyplot as plt\n",
        "import random"
      ],
      "execution_count": 0,
      "outputs": []
    },
    {
      "cell_type": "markdown",
      "metadata": {
        "id": "wcWjqTpqsKTz",
        "colab_type": "text"
      },
      "source": [
        "Make sure we're on the right TensorFlow version"
      ]
    },
    {
      "cell_type": "code",
      "metadata": {
        "id": "ZTOUVLCPsPNQ",
        "colab_type": "code",
        "outputId": "fdba888b-6608-4efb-b99c-e3d47c17f9f2",
        "colab": {
          "base_uri": "https://localhost:8080/",
          "height": 34
        }
      },
      "source": [
        "tf.__version__"
      ],
      "execution_count": 3,
      "outputs": [
        {
          "output_type": "execute_result",
          "data": {
            "text/plain": [
              "'2.0.0'"
            ]
          },
          "metadata": {
            "tags": []
          },
          "execution_count": 3
        }
      ]
    },
    {
      "cell_type": "markdown",
      "metadata": {
        "id": "IFxHkm8ltvq7",
        "colab_type": "text"
      },
      "source": [
        "# Loading MNIST Data"
      ]
    },
    {
      "cell_type": "code",
      "metadata": {
        "id": "F9sgeZzVtzzd",
        "colab_type": "code",
        "outputId": "a9d14b5d-8f3f-49ac-e470-54c6b3074880",
        "colab": {
          "base_uri": "https://localhost:8080/",
          "height": 85
        }
      },
      "source": [
        "(x_train, y_train), (x_test, y_test) = tf.keras.datasets.mnist.load_data()\n",
        "\n",
        "# 60,000 training data and 10,000 test data of 28x28 pixel images\n",
        "print(\"x_train shape\", x_train.shape)\n",
        "print(\"y_train shape\", y_train.shape)\n",
        "print(\"x_test shape\", x_test.shape)\n",
        "print(\"y_test shape\", y_test.shape)"
      ],
      "execution_count": 4,
      "outputs": [
        {
          "output_type": "stream",
          "text": [
            "x_train shape (60000, 28, 28)\n",
            "y_train shape (60000,)\n",
            "x_test shape (10000, 28, 28)\n",
            "y_test shape (10000,)\n"
          ],
          "name": "stdout"
        }
      ]
    },
    {
      "cell_type": "code",
      "metadata": {
        "id": "8DFBgm8ivO0l",
        "colab_type": "code",
        "outputId": "70170c56-ce67-49eb-808f-f90977c83e76",
        "colab": {
          "base_uri": "https://localhost:8080/",
          "height": 657
        }
      },
      "source": [
        "fig = plt.figure(figsize=(9,9))\n",
        "\n",
        "for i in range(9):\n",
        "  plt.subplot(3,3,i+1)\n",
        "  num = random.randint(0, len(x_train))\n",
        "  plt.imshow(x_train[num], cmap=\"gray\", interpolation=None)\n",
        "  plt.title(y_train[num])\n",
        "\n",
        "plt.tight_layout()"
      ],
      "execution_count": 5,
      "outputs": [
        {
          "output_type": "display_data",
          "data": {
            "image/png": "[encoded data removed]",
            "text/plain": [
              "<Figure size 648x648 with 9 Axes>"
            ]
          },
          "metadata": {
            "tags": []
          }
        }
      ]
    },
    {
      "cell_type": "markdown",
      "metadata": {
        "id": "ooBWU_GlxMj8",
        "colab_type": "text"
      },
      "source": [
        "# Create Model"
      ]
    },
    {
      "cell_type": "code",
      "metadata": {
        "id": "jrCDutoHxPC-",
        "colab_type": "code",
        "colab": {}
      },
      "source": [
        "# Create a model with a 28x28 pixel input vector\n",
        "#    -> 1 hidden layer of 64 nodes\n",
        "#    -> 10 categories of outputs (digits 0-9)\n",
        "def create_model():\n",
        "  model = Sequential()\n",
        "  model.add(Flatten(input_shape=(28*28,)))\n",
        "  model.add(Dense(64, activation=\"relu\"))\n",
        "  model.add(Dense(10, activation=\"softmax\"))\n",
        "  model.compile(loss=\"categorical_crossentropy\", optimizer=\"adam\", metrics=[\"accuracy\"])\n",
        "  return model"
      ],
      "execution_count": 0,
      "outputs": []
    },
    {
      "cell_type": "code",
      "metadata": {
        "id": "w7Rm-2Mbxi7Z",
        "colab_type": "code",
        "outputId": "434efa41-5006-4279-f39d-c751026a6170",
        "colab": {
          "base_uri": "https://localhost:8080/",
          "height": 255
        }
      },
      "source": [
        "model = create_model()\n",
        "model.summary()"
      ],
      "execution_count": 7,
      "outputs": [
        {
          "output_type": "stream",
          "text": [
            "Model: \"sequential\"\n",
            "_________________________________________________________________\n",
            "Layer (type)                 Output Shape              Param #   \n",
            "=================================================================\n",
            "flatten (Flatten)            (None, 784)               0         \n",
            "_________________________________________________________________\n",
            "dense (Dense)                (None, 64)                50240     \n",
            "_________________________________________________________________\n",
            "dense_1 (Dense)              (None, 10)                650       \n",
            "=================================================================\n",
            "Total params: 50,890\n",
            "Trainable params: 50,890\n",
            "Non-trainable params: 0\n",
            "_________________________________________________________________\n"
          ],
          "name": "stdout"
        }
      ]
    },
    {
      "cell_type": "markdown",
      "metadata": {
        "id": "sV-OKA8PyNN-",
        "colab_type": "text"
      },
      "source": [
        "# Setup Training & Test Data to Model"
      ]
    },
    {
      "cell_type": "code",
      "metadata": {
        "id": "ytOjFV0JyRKg",
        "colab_type": "code",
        "outputId": "76de753f-5d5d-4167-8ca4-d387fe78a8d4",
        "colab": {
          "base_uri": "https://localhost:8080/",
          "height": 51
        }
      },
      "source": [
        "x_train = x_train.reshape(60000, 28*28)\n",
        "x_test = x_test.reshape(10000, 28*28)\n",
        "x_train = x_train.astype(\"float32\")\n",
        "x_test = x_test.astype(\"float32\")\n",
        "x_train /= 255\n",
        "x_test /= 255\n",
        "\n",
        "y_train = tf.keras.utils.to_categorical(y_train, 10)\n",
        "y_test = tf.keras.utils.to_categorical(y_test, 10)\n",
        "\n",
        "print(\"x_train shape\", x_train.shape)\n",
        "print(\"y_train shape\", y_train.shape)"
      ],
      "execution_count": 8,
      "outputs": [
        {
          "output_type": "stream",
          "text": [
            "x_train shape (60000, 784)\n",
            "y_train shape (60000, 10)\n"
          ],
          "name": "stdout"
        }
      ]
    },
    {
      "cell_type": "markdown",
      "metadata": {
        "id": "H25BFQQ2yl8d",
        "colab_type": "text"
      },
      "source": [
        "# Train and Save Model"
      ]
    },
    {
      "cell_type": "code",
      "metadata": {
        "id": "vnNHvNKkytp_",
        "colab_type": "code",
        "outputId": "1b89bf35-5b6a-425f-b329-1bdba49dbe94",
        "colab": {
          "base_uri": "https://localhost:8080/",
          "height": 255
        }
      },
      "source": [
        "model.fit(x=x_train, y=y_train, batch_size=128, epochs=5, verbose=1)\n",
        "\n",
        "scores = model.evaluate(x_test, y_test, verbose=2)\n",
        "print(\"Test Loss:\", scores[0])\n",
        "print(\"Test Accuracy:\", scores[1])\n",
        "\n",
        "model.save(\"mnist.h5\")"
      ],
      "execution_count": 9,
      "outputs": [
        {
          "output_type": "stream",
          "text": [
            "Train on 60000 samples\n",
            "Epoch 1/5\n",
            "60000/60000 [==============================] - 2s 33us/sample - loss: 0.4119 - accuracy: 0.8889\n",
            "Epoch 2/5\n",
            "60000/60000 [==============================] - 1s 25us/sample - loss: 0.2004 - accuracy: 0.9432\n",
            "Epoch 3/5\n",
            "60000/60000 [==============================] - 2s 25us/sample - loss: 0.1531 - accuracy: 0.9564\n",
            "Epoch 4/5\n",
            "60000/60000 [==============================] - 2s 25us/sample - loss: 0.1261 - accuracy: 0.9639\n",
            "Epoch 5/5\n",
            "60000/60000 [==============================] - 1s 24us/sample - loss: 0.1072 - accuracy: 0.9690\n",
            "10000/1 - 0s - loss: 0.0683 - accuracy: 0.9662\n",
            "Test Loss: 0.1128395544283092\n",
            "Test Accuracy: 0.9662\n"
          ],
          "name": "stdout"
        }
      ]
    },
    {
      "cell_type": "markdown",
      "metadata": {
        "id": "6YAosrZp3RfD",
        "colab_type": "text"
      },
      "source": [
        "# Convert Model to .TFLite"
      ]
    },
    {
      "cell_type": "code",
      "metadata": {
        "id": "C6Ozqwb13Wpi",
        "colab_type": "code",
        "outputId": "95e4914a-af71-45f8-9ef1-c8c366af996c",
        "colab": {
          "base_uri": "https://localhost:8080/",
          "height": 34
        }
      },
      "source": [
        "mnist_sampleset = tf.data.Dataset.from_tensor_slices((x_test)).batch(1)\n",
        "def representative_dataset_gen():\n",
        "    for input_value in mnist_sampleset.take(100):\n",
        "        yield [input_value]\n",
        "\n",
        "converter = tf.lite.TFLiteConverter.from_keras_model(model)\n",
        "# NOTE: The current version of TensorFlow appears to break the model when using optimizations\n",
        "#    You can try uncommenting the following if you would like to generate a smaller size .tflite model\n",
        "# converter.optimizations = [tf.lite.Optimize.OPTIMIZE_FOR_SIZE]\n",
        "# converter.representative_dataset = representative_dataset_gen\n",
        "tflite_model = converter.convert()\n",
        "open(\"model.tflite\", \"wb\").write(tflite_model)"
      ],
      "execution_count": 10,
      "outputs": [
        {
          "output_type": "execute_result",
          "data": {
            "text/plain": [
              "204796"
            ]
          },
          "metadata": {
            "tags": []
          },
          "execution_count": 10
        }
      ]
    },
    {
      "cell_type": "markdown",
      "metadata": {
        "id": "a-V7Af3x3rv1",
        "colab_type": "text"
      },
      "source": [
        "# Test TFLite Model"
      ]
    },
    {
      "cell_type": "code",
      "metadata": {
        "id": "UYLaqDFA3vpt",
        "colab_type": "code",
        "outputId": "cc5ac34d-9916-4f63-94f5-89c2c1fbb622",
        "colab": {
          "base_uri": "https://localhost:8080/",
          "height": 34
        }
      },
      "source": [
        "interpreter = tf.lite.Interpreter(model_path=\"model.tflite\")\n",
        "\n",
        "input_details = interpreter.get_input_details()\n",
        "output_details = interpreter.get_output_details()\n",
        "\n",
        "# Adjust the model interpreter to take 10,000 inputs at once instead of just 1\n",
        "interpreter.resize_tensor_input(input_details[0][\"index\"], (10000, 28*28))\n",
        "interpreter.resize_tensor_input(output_details[0][\"index\"], (10000, 10))\n",
        "interpreter.allocate_tensors()\n",
        "\n",
        "input_details = interpreter.get_input_details()\n",
        "output_details = interpreter.get_output_details()\n",
        "\n",
        "# Set the test input and run\n",
        "interpreter.set_tensor(input_details[0][\"index\"], x_test)\n",
        "interpreter.invoke()\n",
        "\n",
        "# Get the result and check its accuracy\n",
        "output_data = interpreter.get_tensor(output_details[0][\"index\"])\n",
        "\n",
        "a = [np.argmax(y, axis=None, out=None) for y in output_data]\n",
        "b = [np.argmax(y, axis=None, out=None) for y in y_test]\n",
        "\n",
        "accuracy = (np.array(a) == np.array(b)).mean()\n",
        "print(\"TFLite Accuracy:\", accuracy)"
      ],
      "execution_count": 11,
      "outputs": [
        {
          "output_type": "stream",
          "text": [
            "TFLite Accuracy: 0.9662\n"
          ],
          "name": "stdout"
        }
      ]
    },
    {
      "cell_type": "markdown",
      "metadata": {
        "id": "Uc7UjwfRBdPq",
        "colab_type": "text"
      },
      "source": [
        "# Save .TFLite as C Array"
      ]
    },
    {
      "cell_type": "code",
      "metadata": {
        "id": "b82mVPnj9Lp3",
        "colab_type": "code",
        "outputId": "a9867f4b-e49f-412d-8b21-d0b4d2732e53",
        "colab": {
          "base_uri": "https://localhost:8080/",
          "height": 34
        }
      },
      "source": [
        "import binascii\n",
        "\n",
        "def convert_to_c_array(bytes) -> str:\n",
        "  hexstr = binascii.hexlify(bytes).decode(\"UTF-8\")\n",
        "  hexstr = hexstr.upper()\n",
        "  array = [\"0x\" + hexstr[i:i + 2] for i in range(0, len(hexstr), 2)]\n",
        "  array = [array[i:i+10] for i in range(0, len(array), 10)]\n",
        "  return \",\\n  \".join([\", \".join(e) for e in array])\n",
        "\n",
        "tflite_binary = open(\"model.tflite\", 'rb').read()\n",
        "ascii_bytes = convert_to_c_array(tflite_binary)\n",
        "c_file = \"const unsigned char tf_model[] = {\\n  \" + ascii_bytes + \"\\n};\\nunsigned int tf_model_len = \" + str(len(tflite_binary)) + \";\"\n",
        "# print(c_file)\n",
        "open(\"model.h\", \"w\").write(c_file)"
      ],
      "execution_count": 12,
      "outputs": [
        {
          "output_type": "execute_result",
          "data": {
            "text/plain": [
              "1269808"
            ]
          },
          "metadata": {
            "tags": []
          },
          "execution_count": 12
        }
      ]
    },
    {
      "cell_type": "markdown",
      "metadata": {
        "id": "3BcvoqYI5L97",
        "colab_type": "text"
      },
      "source": [
        "Finally, simply download the generated model.h from the Files section in this notebook and include it in your TF Lite Micro C++ code.\n",
        "\n"
      ]
    }
  ]
}